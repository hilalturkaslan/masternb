{
 "cells": [
  {
   "cell_type": "markdown",
   "id": "9a57bf5b",
   "metadata": {
    "papermill": {
     "duration": 0.009311,
     "end_time": "2024-07-03T18:32:29.512645",
     "exception": false,
     "start_time": "2024-07-03T18:32:29.503334",
     "status": "completed"
    },
    "tags": []
   },
   "source": [
    "Bu çalışmada [antalya_kiralik_ev.csv](https://www.kaggle.com/antalyakiralyontem/antalya-kiralik-ev) verisi kullanılmıştır. Veri manipülasyonu, veri görselleştirme ve veri analizi yapmak için [pandas](https://pandas.pydata.org/) ve [seaborn](https://seaborn.pydata.org/) kütüphanelerini kullanılarak yapılmıştır."
   ]
  },
  {
   "cell_type": "markdown",
   "id": "b92c321b",
   "metadata": {
    "papermill": {
     "duration": 0.008501,
     "end_time": "2024-07-03T18:32:29.530151",
     "exception": false,
     "start_time": "2024-07-03T18:32:29.521650",
     "status": "completed"
    },
    "tags": []
   },
   "source": [
    "## Kütüphaneleri Yükle ##"
   ]
  },
  {
   "cell_type": "code",
   "execution_count": 1,
   "id": "7a40f734",
   "metadata": {
    "execution": {
     "iopub.execute_input": "2024-07-03T18:32:29.549544Z",
     "iopub.status.busy": "2024-07-03T18:32:29.549094Z",
     "iopub.status.idle": "2024-07-03T18:32:31.584424Z",
     "shell.execute_reply": "2024-07-03T18:32:31.583303Z"
    },
    "papermill": {
     "duration": 2.048595,
     "end_time": "2024-07-03T18:32:31.587467",
     "exception": false,
     "start_time": "2024-07-03T18:32:29.538872",
     "status": "completed"
    },
    "tags": []
   },
   "outputs": [],
   "source": [
    "import numpy as np\n",
    "import pandas as pd\n",
    "import matplotlib.pyplot as plt\n",
    "import seaborn as sns\n",
    "import warnings\n",
    "warnings.filterwarnings(\"ignore\")"
   ]
  },
  {
   "cell_type": "markdown",
   "id": "7c4837df",
   "metadata": {
    "papermill": {
     "duration": 0.008845,
     "end_time": "2024-07-03T18:32:31.605490",
     "exception": false,
     "start_time": "2024-07-03T18:32:31.596645",
     "status": "completed"
    },
    "tags": []
   },
   "source": [
    "## Veri Setini Yükle ##"
   ]
  },
  {
   "cell_type": "code",
   "execution_count": 2,
   "id": "a0607745",
   "metadata": {
    "execution": {
     "iopub.execute_input": "2024-07-03T18:32:31.626134Z",
     "iopub.status.busy": "2024-07-03T18:32:31.625650Z",
     "iopub.status.idle": "2024-07-03T18:32:31.650488Z",
     "shell.execute_reply": "2024-07-03T18:32:31.649286Z"
    },
    "papermill": {
     "duration": 0.038539,
     "end_time": "2024-07-03T18:32:31.653153",
     "exception": false,
     "start_time": "2024-07-03T18:32:31.614614",
     "status": "completed"
    },
    "tags": []
   },
   "outputs": [],
   "source": [
    "df=pd.read_csv(\"/kaggle/input/antalya-muratpaa-daire-kira-cretleri-2024-ocak/antalya_kiralik_ev.csv\")"
   ]
  },
  {
   "cell_type": "markdown",
   "id": "6ce21f27",
   "metadata": {
    "papermill": {
     "duration": 0.01049,
     "end_time": "2024-07-03T18:32:31.672835",
     "exception": false,
     "start_time": "2024-07-03T18:32:31.662345",
     "status": "completed"
    },
    "tags": []
   },
   "source": [
    "## Keşifsel Veri Analizi ##"
   ]
  },
  {
   "cell_type": "code",
   "execution_count": 3,
   "id": "efd87a86",
   "metadata": {
    "execution": {
     "iopub.execute_input": "2024-07-03T18:32:31.693135Z",
     "iopub.status.busy": "2024-07-03T18:32:31.692074Z",
     "iopub.status.idle": "2024-07-03T18:32:31.723488Z",
     "shell.execute_reply": "2024-07-03T18:32:31.722500Z"
    },
    "papermill": {
     "duration": 0.044507,
     "end_time": "2024-07-03T18:32:31.726321",
     "exception": false,
     "start_time": "2024-07-03T18:32:31.681814",
     "status": "completed"
    },
    "tags": []
   },
   "outputs": [
    {
     "data": {
      "text/html": [
       "<div>\n",
       "<style scoped>\n",
       "    .dataframe tbody tr th:only-of-type {\n",
       "        vertical-align: middle;\n",
       "    }\n",
       "\n",
       "    .dataframe tbody tr th {\n",
       "        vertical-align: top;\n",
       "    }\n",
       "\n",
       "    .dataframe thead th {\n",
       "        text-align: right;\n",
       "    }\n",
       "</style>\n",
       "<table border=\"1\" class=\"dataframe\">\n",
       "  <thead>\n",
       "    <tr style=\"text-align: right;\">\n",
       "      <th></th>\n",
       "      <th>Unnamed: 0</th>\n",
       "      <th>mahalle</th>\n",
       "      <th>fiyat</th>\n",
       "      <th>brut_alan_m2</th>\n",
       "      <th>net_alan_m2</th>\n",
       "      <th>oda_sayisi</th>\n",
       "      <th>bina_yas</th>\n",
       "      <th>dairenin_bulundugu_kat</th>\n",
       "      <th>bina_kat_sayisi</th>\n",
       "      <th>isitma_turu</th>\n",
       "      <th>banyo_sayisi</th>\n",
       "      <th>balkon</th>\n",
       "      <th>asansor</th>\n",
       "      <th>otopark</th>\n",
       "      <th>esya_durumu</th>\n",
       "      <th>site_icinde</th>\n",
       "      <th>aidat</th>\n",
       "      <th>depozito</th>\n",
       "      <th>sahibi</th>\n",
       "    </tr>\n",
       "  </thead>\n",
       "  <tbody>\n",
       "    <tr>\n",
       "      <th>0</th>\n",
       "      <td>1</td>\n",
       "      <td>Bayındır Mh.</td>\n",
       "      <td>15000.0</td>\n",
       "      <td>90.0</td>\n",
       "      <td>80.0</td>\n",
       "      <td>2+1</td>\n",
       "      <td>21-25 arası</td>\n",
       "      <td>Giriş Katı</td>\n",
       "      <td>4.0</td>\n",
       "      <td>Klima</td>\n",
       "      <td>1.0</td>\n",
       "      <td>0</td>\n",
       "      <td>0</td>\n",
       "      <td>Açık Otopark</td>\n",
       "      <td>1</td>\n",
       "      <td>0</td>\n",
       "      <td>100</td>\n",
       "      <td>15000</td>\n",
       "      <td>0</td>\n",
       "    </tr>\n",
       "    <tr>\n",
       "      <th>1</th>\n",
       "      <td>2</td>\n",
       "      <td>Çaybaşı Mh.</td>\n",
       "      <td>29000.0</td>\n",
       "      <td>145.0</td>\n",
       "      <td>135.0</td>\n",
       "      <td>3+1</td>\n",
       "      <td>0</td>\n",
       "      <td>1</td>\n",
       "      <td>5.0</td>\n",
       "      <td>Kombi (Doğalgaz)</td>\n",
       "      <td>1.0</td>\n",
       "      <td>1</td>\n",
       "      <td>1</td>\n",
       "      <td>Kapalı Otopark</td>\n",
       "      <td>0</td>\n",
       "      <td>1</td>\n",
       "      <td>1500</td>\n",
       "      <td>30000</td>\n",
       "      <td>0</td>\n",
       "    </tr>\n",
       "    <tr>\n",
       "      <th>2</th>\n",
       "      <td>3</td>\n",
       "      <td>Güzeloba Mh.</td>\n",
       "      <td>24750.0</td>\n",
       "      <td>145.0</td>\n",
       "      <td>130.0</td>\n",
       "      <td>3+1</td>\n",
       "      <td>11-15 arası</td>\n",
       "      <td>3</td>\n",
       "      <td>4.0</td>\n",
       "      <td>Klima</td>\n",
       "      <td>1.0</td>\n",
       "      <td>1</td>\n",
       "      <td>0</td>\n",
       "      <td>Açık Otopark</td>\n",
       "      <td>0</td>\n",
       "      <td>0</td>\n",
       "      <td>500</td>\n",
       "      <td>25000</td>\n",
       "      <td>1</td>\n",
       "    </tr>\n",
       "    <tr>\n",
       "      <th>3</th>\n",
       "      <td>4</td>\n",
       "      <td>Şirinyalı Mh.</td>\n",
       "      <td>30000.0</td>\n",
       "      <td>230.0</td>\n",
       "      <td>200.0</td>\n",
       "      <td>3+1</td>\n",
       "      <td>5-10 arası</td>\n",
       "      <td>2</td>\n",
       "      <td>3.0</td>\n",
       "      <td>Doğalgaz Sobası</td>\n",
       "      <td>2.0</td>\n",
       "      <td>0</td>\n",
       "      <td>0</td>\n",
       "      <td>Açık Otopark</td>\n",
       "      <td>1</td>\n",
       "      <td>0</td>\n",
       "      <td>0</td>\n",
       "      <td>30000</td>\n",
       "      <td>0</td>\n",
       "    </tr>\n",
       "    <tr>\n",
       "      <th>4</th>\n",
       "      <td>5</td>\n",
       "      <td>Çağlayan Mh.</td>\n",
       "      <td>37500.0</td>\n",
       "      <td>320.0</td>\n",
       "      <td>300.0</td>\n",
       "      <td>4+2</td>\n",
       "      <td>16-20 arası</td>\n",
       "      <td>8</td>\n",
       "      <td>8.0</td>\n",
       "      <td>Klima</td>\n",
       "      <td>3.0</td>\n",
       "      <td>1</td>\n",
       "      <td>1</td>\n",
       "      <td>Açık Otopark</td>\n",
       "      <td>0</td>\n",
       "      <td>1</td>\n",
       "      <td>0</td>\n",
       "      <td>37500</td>\n",
       "      <td>0</td>\n",
       "    </tr>\n",
       "  </tbody>\n",
       "</table>\n",
       "</div>"
      ],
      "text/plain": [
       "   Unnamed: 0        mahalle    fiyat  brut_alan_m2  net_alan_m2 oda_sayisi  \\\n",
       "0           1   Bayındır Mh.  15000.0          90.0         80.0        2+1   \n",
       "1           2    Çaybaşı Mh.  29000.0         145.0        135.0        3+1   \n",
       "2           3   Güzeloba Mh.  24750.0         145.0        130.0        3+1   \n",
       "3           4  Şirinyalı Mh.  30000.0         230.0        200.0        3+1   \n",
       "4           5   Çağlayan Mh.  37500.0         320.0        300.0        4+2   \n",
       "\n",
       "      bina_yas dairenin_bulundugu_kat  bina_kat_sayisi       isitma_turu  \\\n",
       "0  21-25 arası             Giriş Katı              4.0             Klima   \n",
       "1            0                      1              5.0  Kombi (Doğalgaz)   \n",
       "2  11-15 arası                      3              4.0             Klima   \n",
       "3   5-10 arası                      2              3.0   Doğalgaz Sobası   \n",
       "4  16-20 arası                      8              8.0             Klima   \n",
       "\n",
       "   banyo_sayisi  balkon  asansor         otopark  esya_durumu  site_icinde  \\\n",
       "0           1.0       0        0    Açık Otopark            1            0   \n",
       "1           1.0       1        1  Kapalı Otopark            0            1   \n",
       "2           1.0       1        0    Açık Otopark            0            0   \n",
       "3           2.0       0        0    Açık Otopark            1            0   \n",
       "4           3.0       1        1    Açık Otopark            0            1   \n",
       "\n",
       "   aidat  depozito  sahibi  \n",
       "0    100     15000       0  \n",
       "1   1500     30000       0  \n",
       "2    500     25000       1  \n",
       "3      0     30000       0  \n",
       "4      0     37500       0  "
      ]
     },
     "execution_count": 3,
     "metadata": {},
     "output_type": "execute_result"
    }
   ],
   "source": [
    "df.head()"
   ]
  },
  {
   "cell_type": "markdown",
   "id": "9df96c09",
   "metadata": {
    "papermill": {
     "duration": 0.010419,
     "end_time": "2024-07-03T18:32:31.751472",
     "exception": false,
     "start_time": "2024-07-03T18:32:31.741053",
     "status": "completed"
    },
    "tags": []
   },
   "source": [
    "## Unnamed: 0 Kolonunu Sil ##"
   ]
  },
  {
   "cell_type": "code",
   "execution_count": 4,
   "id": "93d69335",
   "metadata": {
    "execution": {
     "iopub.execute_input": "2024-07-03T18:32:31.771794Z",
     "iopub.status.busy": "2024-07-03T18:32:31.771390Z",
     "iopub.status.idle": "2024-07-03T18:32:31.781939Z",
     "shell.execute_reply": "2024-07-03T18:32:31.780711Z"
    },
    "papermill": {
     "duration": 0.023264,
     "end_time": "2024-07-03T18:32:31.784075",
     "exception": false,
     "start_time": "2024-07-03T18:32:31.760811",
     "status": "completed"
    },
    "tags": []
   },
   "outputs": [],
   "source": [
    "df.drop(\"Unnamed: 0\",axis=1,inplace=True)"
   ]
  },
  {
   "cell_type": "code",
   "execution_count": 5,
   "id": "03f0613a",
   "metadata": {
    "execution": {
     "iopub.execute_input": "2024-07-03T18:32:31.805390Z",
     "iopub.status.busy": "2024-07-03T18:32:31.804452Z",
     "iopub.status.idle": "2024-07-03T18:32:31.829126Z",
     "shell.execute_reply": "2024-07-03T18:32:31.827365Z"
    },
    "papermill": {
     "duration": 0.03809,
     "end_time": "2024-07-03T18:32:31.831699",
     "exception": false,
     "start_time": "2024-07-03T18:32:31.793609",
     "status": "completed"
    },
    "tags": []
   },
   "outputs": [
    {
     "name": "stdout",
     "output_type": "stream",
     "text": [
      "<class 'pandas.core.frame.DataFrame'>\n",
      "RangeIndex: 750 entries, 0 to 749\n",
      "Data columns (total 18 columns):\n",
      " #   Column                  Non-Null Count  Dtype  \n",
      "---  ------                  --------------  -----  \n",
      " 0   mahalle                 750 non-null    object \n",
      " 1   fiyat                   750 non-null    float64\n",
      " 2   brut_alan_m2            750 non-null    float64\n",
      " 3   net_alan_m2             750 non-null    float64\n",
      " 4   oda_sayisi              750 non-null    object \n",
      " 5   bina_yas                750 non-null    object \n",
      " 6   dairenin_bulundugu_kat  750 non-null    object \n",
      " 7   bina_kat_sayisi         750 non-null    float64\n",
      " 8   isitma_turu             750 non-null    object \n",
      " 9   banyo_sayisi            750 non-null    float64\n",
      " 10  balkon                  750 non-null    int64  \n",
      " 11  asansor                 750 non-null    int64  \n",
      " 12  otopark                 750 non-null    object \n",
      " 13  esya_durumu             750 non-null    int64  \n",
      " 14  site_icinde             750 non-null    int64  \n",
      " 15  aidat                   750 non-null    int64  \n",
      " 16  depozito                750 non-null    int64  \n",
      " 17  sahibi                  750 non-null    int64  \n",
      "dtypes: float64(5), int64(7), object(6)\n",
      "memory usage: 105.6+ KB\n"
     ]
    }
   ],
   "source": [
    "df.info()"
   ]
  },
  {
   "cell_type": "markdown",
   "id": "6dd62992",
   "metadata": {
    "papermill": {
     "duration": 0.009478,
     "end_time": "2024-07-03T18:32:31.850839",
     "exception": false,
     "start_time": "2024-07-03T18:32:31.841361",
     "status": "completed"
    },
    "tags": []
   },
   "source": [
    "## Veri Görselleştirme ##"
   ]
  },
  {
   "cell_type": "code",
   "execution_count": 6,
   "id": "f1e00cb7",
   "metadata": {
    "execution": {
     "iopub.execute_input": "2024-07-03T18:32:31.872894Z",
     "iopub.status.busy": "2024-07-03T18:32:31.871802Z",
     "iopub.status.idle": "2024-07-03T18:32:31.884059Z",
     "shell.execute_reply": "2024-07-03T18:32:31.882819Z"
    },
    "papermill": {
     "duration": 0.025687,
     "end_time": "2024-07-03T18:32:31.886484",
     "exception": false,
     "start_time": "2024-07-03T18:32:31.860797",
     "status": "completed"
    },
    "tags": []
   },
   "outputs": [
    {
     "data": {
      "text/plain": [
       "mahalle\n",
       "Güzeloba Mh.        0.217333\n",
       "Çağlayan Mh.        0.086667\n",
       "Fener Mah.          0.056000\n",
       "Şirinyalı Mh.       0.054667\n",
       "Kızılarık Mh.       0.046667\n",
       "Meydankavağı Mh.    0.033333\n",
       "Yeşilbahçe Mh.      0.030667\n",
       "Bayındır Mh.        0.029333\n",
       "Gençlik Mh.         0.022667\n",
       "Gebizli Mah.        0.022667\n",
       "Yüksekalan Mh.      0.022667\n",
       "Konuksever Mah.     0.022667\n",
       "Yenigün Mh.         0.020000\n",
       "Muratpaşa Mh.       0.018667\n",
       "Kızıltoprak Mh.     0.017333\n",
       "Kışla Mh.           0.017333\n",
       "Varlık Mh.          0.017333\n",
       "Bahçelievler Mh.    0.016000\n",
       "Soğuksu Mh.         0.016000\n",
       "Deniz Mah.          0.016000\n",
       "Üçgen Mh.           0.016000\n",
       "Altındağ Mh.        0.014667\n",
       "Sinan Mah.          0.014667\n",
       "Etiler Mah.         0.013333\n",
       "Sedir Mah.          0.012000\n",
       "Çaybaşı Mh.         0.010667\n",
       "Güvenlik Mh.        0.010667\n",
       "Meltem Mah.         0.010667\n",
       "Haşimişcan Mh.      0.009333\n",
       "Zerdalilik Mah.     0.009333\n",
       "Dutlubahçe Mh.      0.008000\n",
       "Kızılsaray Mh.      0.008000\n",
       "Güzelbağ Mh.        0.008000\n",
       "Yeşildere Mh.       0.006667\n",
       "Güzeloluk Mh.       0.006667\n",
       "Cumhuriyet Mah.     0.006667\n",
       "Elmalı Mh.          0.006667\n",
       "Demircikara Mah.    0.005333\n",
       "Tahılpazarı Mh.     0.005333\n",
       "Yıldız Mh.          0.005333\n",
       "Doğuyaka Mh.        0.005333\n",
       "Ermenek Mah.        0.005333\n",
       "Memurevleri Mah.    0.005333\n",
       "Mehmetçik Mh.       0.002667\n",
       "Yenigöl Mh.         0.002667\n",
       "Balbey Mah.         0.001333\n",
       "Selçuk Mh.          0.001333\n",
       "Topçular Mh.        0.001333\n",
       "Kırcami Mh.         0.001333\n",
       "Yeşilova Mh.        0.001333\n",
       "Name: proportion, dtype: float64"
      ]
     },
     "execution_count": 6,
     "metadata": {},
     "output_type": "execute_result"
    }
   ],
   "source": [
    "df['mahalle'].value_counts(normalize=True)"
   ]
  },
  {
   "cell_type": "markdown",
   "id": "eac55589",
   "metadata": {
    "papermill": {
     "duration": 0.009438,
     "end_time": "2024-07-03T18:32:31.905832",
     "exception": false,
     "start_time": "2024-07-03T18:32:31.896394",
     "status": "completed"
    },
    "tags": []
   },
   "source": [
    "## Fiyat Görselleştirme ##"
   ]
  },
  {
   "cell_type": "code",
   "execution_count": 7,
   "id": "4f450ba0",
   "metadata": {
    "execution": {
     "iopub.execute_input": "2024-07-03T18:32:31.928707Z",
     "iopub.status.busy": "2024-07-03T18:32:31.928091Z",
     "iopub.status.idle": "2024-07-03T18:32:32.293892Z",
     "shell.execute_reply": "2024-07-03T18:32:32.292828Z"
    },
    "papermill": {
     "duration": 0.380387,
     "end_time": "2024-07-03T18:32:32.296004",
     "exception": false,
     "start_time": "2024-07-03T18:32:31.915617",
     "status": "completed"
    },
    "tags": []
   },
   "outputs": [
    {
     "data": {
      "text/plain": [
       "<Axes: ylabel='Frequency'>"
      ]
     },
     "execution_count": 7,
     "metadata": {},
     "output_type": "execute_result"
    },
    {
     "data": {
      "image/png": "[encoded data removed]",
      "text/plain": [
       "<Figure size 640x480 with 1 Axes>"
      ]
     },
     "metadata": {},
     "output_type": "display_data"
    }
   ],
   "source": [
    "df['fiyat'].plot.hist(bins=20)"
   ]
  },
  {
   "cell_type": "code",
   "execution_count": 8,
   "id": "cfa8b3eb",
   "metadata": {
    "execution": {
     "iopub.execute_input": "2024-07-03T18:32:32.317522Z",
     "iopub.status.busy": "2024-07-03T18:32:32.317113Z",
     "iopub.status.idle": "2024-07-03T18:32:32.473402Z",
     "shell.execute_reply": "2024-07-03T18:32:32.472314Z"
    },
    "papermill": {
     "duration": 0.169641,
     "end_time": "2024-07-03T18:32:32.475653",
     "exception": false,
     "start_time": "2024-07-03T18:32:32.306012",
     "status": "completed"
    },
    "tags": []
   },
   "outputs": [
    {
     "data": {
      "text/plain": [
       "<Axes: xlabel='fiyat'>"
      ]
     },
     "execution_count": 8,
     "metadata": {},
     "output_type": "execute_result"
    },
    {
     "data": {
      "image/png": "[encoded data removed]",
      "text/plain": [
       "<Figure size 640x480 with 1 Axes>"
      ]
     },
     "metadata": {},
     "output_type": "display_data"
    }
   ],
   "source": [
    "sns.boxplot(x=df['fiyat'])"
   ]
  },
  {
   "cell_type": "code",
   "execution_count": 9,
   "id": "cd0a7cdb",
   "metadata": {
    "execution": {
     "iopub.execute_input": "2024-07-03T18:32:32.498631Z",
     "iopub.status.busy": "2024-07-03T18:32:32.497769Z",
     "iopub.status.idle": "2024-07-03T18:32:32.699494Z",
     "shell.execute_reply": "2024-07-03T18:32:32.698461Z"
    },
    "papermill": {
     "duration": 0.215697,
     "end_time": "2024-07-03T18:32:32.701752",
     "exception": false,
     "start_time": "2024-07-03T18:32:32.486055",
     "status": "completed"
    },
    "tags": []
   },
   "outputs": [
    {
     "data": {
      "text/plain": [
       "<Axes: ylabel='fiyat'>"
      ]
     },
     "execution_count": 9,
     "metadata": {},
     "output_type": "execute_result"
    },
    {
     "data": {
      "image/png": "[encoded data removed]",
      "text/plain": [
       "<Figure size 640x480 with 1 Axes>"
      ]
     },
     "metadata": {},
     "output_type": "display_data"
    }
   ],
   "source": [
    "sns.boxplot(y=df['fiyat'])"
   ]
  },
  {
   "cell_type": "markdown",
   "id": "19df3c50",
   "metadata": {
    "papermill": {
     "duration": 0.010503,
     "end_time": "2024-07-03T18:32:32.723114",
     "exception": false,
     "start_time": "2024-07-03T18:32:32.712611",
     "status": "completed"
    },
    "tags": []
   },
   "source": [
    "## Betimsel İstatistikler ##"
   ]
  },
  {
   "cell_type": "code",
   "execution_count": 10,
   "id": "e9e944ed",
   "metadata": {
    "execution": {
     "iopub.execute_input": "2024-07-03T18:32:32.746385Z",
     "iopub.status.busy": "2024-07-03T18:32:32.746000Z",
     "iopub.status.idle": "2024-07-03T18:32:32.796110Z",
     "shell.execute_reply": "2024-07-03T18:32:32.795144Z"
    },
    "papermill": {
     "duration": 0.064697,
     "end_time": "2024-07-03T18:32:32.798619",
     "exception": false,
     "start_time": "2024-07-03T18:32:32.733922",
     "status": "completed"
    },
    "tags": []
   },
   "outputs": [
    {
     "data": {
      "text/html": [
       "<div>\n",
       "<style scoped>\n",
       "    .dataframe tbody tr th:only-of-type {\n",
       "        vertical-align: middle;\n",
       "    }\n",
       "\n",
       "    .dataframe tbody tr th {\n",
       "        vertical-align: top;\n",
       "    }\n",
       "\n",
       "    .dataframe thead th {\n",
       "        text-align: right;\n",
       "    }\n",
       "</style>\n",
       "<table border=\"1\" class=\"dataframe\">\n",
       "  <thead>\n",
       "    <tr style=\"text-align: right;\">\n",
       "      <th></th>\n",
       "      <th>count</th>\n",
       "      <th>unique</th>\n",
       "      <th>top</th>\n",
       "      <th>freq</th>\n",
       "      <th>mean</th>\n",
       "      <th>std</th>\n",
       "      <th>min</th>\n",
       "      <th>25%</th>\n",
       "      <th>50%</th>\n",
       "      <th>75%</th>\n",
       "      <th>max</th>\n",
       "    </tr>\n",
       "  </thead>\n",
       "  <tbody>\n",
       "    <tr>\n",
       "      <th>mahalle</th>\n",
       "      <td>750</td>\n",
       "      <td>50</td>\n",
       "      <td>Güzeloba Mh.</td>\n",
       "      <td>163</td>\n",
       "      <td>NaN</td>\n",
       "      <td>NaN</td>\n",
       "      <td>NaN</td>\n",
       "      <td>NaN</td>\n",
       "      <td>NaN</td>\n",
       "      <td>NaN</td>\n",
       "      <td>NaN</td>\n",
       "    </tr>\n",
       "    <tr>\n",
       "      <th>fiyat</th>\n",
       "      <td>750.0</td>\n",
       "      <td>NaN</td>\n",
       "      <td>NaN</td>\n",
       "      <td>NaN</td>\n",
       "      <td>24260.117333</td>\n",
       "      <td>16680.292541</td>\n",
       "      <td>10250.0</td>\n",
       "      <td>15000.0</td>\n",
       "      <td>20000.0</td>\n",
       "      <td>27000.0</td>\n",
       "      <td>200000.0</td>\n",
       "    </tr>\n",
       "    <tr>\n",
       "      <th>brut_alan_m2</th>\n",
       "      <td>750.0</td>\n",
       "      <td>NaN</td>\n",
       "      <td>NaN</td>\n",
       "      <td>NaN</td>\n",
       "      <td>123.754667</td>\n",
       "      <td>53.26392</td>\n",
       "      <td>25.0</td>\n",
       "      <td>85.0</td>\n",
       "      <td>115.0</td>\n",
       "      <td>150.0</td>\n",
       "      <td>400.0</td>\n",
       "    </tr>\n",
       "    <tr>\n",
       "      <th>net_alan_m2</th>\n",
       "      <td>750.0</td>\n",
       "      <td>NaN</td>\n",
       "      <td>NaN</td>\n",
       "      <td>NaN</td>\n",
       "      <td>111.505333</td>\n",
       "      <td>48.517233</td>\n",
       "      <td>20.0</td>\n",
       "      <td>75.0</td>\n",
       "      <td>100.0</td>\n",
       "      <td>140.0</td>\n",
       "      <td>370.0</td>\n",
       "    </tr>\n",
       "    <tr>\n",
       "      <th>oda_sayisi</th>\n",
       "      <td>750</td>\n",
       "      <td>12</td>\n",
       "      <td>2+1</td>\n",
       "      <td>279</td>\n",
       "      <td>NaN</td>\n",
       "      <td>NaN</td>\n",
       "      <td>NaN</td>\n",
       "      <td>NaN</td>\n",
       "      <td>NaN</td>\n",
       "      <td>NaN</td>\n",
       "      <td>NaN</td>\n",
       "    </tr>\n",
       "    <tr>\n",
       "      <th>bina_yas</th>\n",
       "      <td>750</td>\n",
       "      <td>11</td>\n",
       "      <td>5-10 arası</td>\n",
       "      <td>159</td>\n",
       "      <td>NaN</td>\n",
       "      <td>NaN</td>\n",
       "      <td>NaN</td>\n",
       "      <td>NaN</td>\n",
       "      <td>NaN</td>\n",
       "      <td>NaN</td>\n",
       "      <td>NaN</td>\n",
       "    </tr>\n",
       "    <tr>\n",
       "      <th>dairenin_bulundugu_kat</th>\n",
       "      <td>750</td>\n",
       "      <td>22</td>\n",
       "      <td>2</td>\n",
       "      <td>139</td>\n",
       "      <td>NaN</td>\n",
       "      <td>NaN</td>\n",
       "      <td>NaN</td>\n",
       "      <td>NaN</td>\n",
       "      <td>NaN</td>\n",
       "      <td>NaN</td>\n",
       "      <td>NaN</td>\n",
       "    </tr>\n",
       "    <tr>\n",
       "      <th>bina_kat_sayisi</th>\n",
       "      <td>750.0</td>\n",
       "      <td>NaN</td>\n",
       "      <td>NaN</td>\n",
       "      <td>NaN</td>\n",
       "      <td>5.204</td>\n",
       "      <td>2.959853</td>\n",
       "      <td>1.0</td>\n",
       "      <td>3.0</td>\n",
       "      <td>4.0</td>\n",
       "      <td>7.0</td>\n",
       "      <td>17.0</td>\n",
       "    </tr>\n",
       "    <tr>\n",
       "      <th>isitma_turu</th>\n",
       "      <td>750</td>\n",
       "      <td>13</td>\n",
       "      <td>Klima</td>\n",
       "      <td>499</td>\n",
       "      <td>NaN</td>\n",
       "      <td>NaN</td>\n",
       "      <td>NaN</td>\n",
       "      <td>NaN</td>\n",
       "      <td>NaN</td>\n",
       "      <td>NaN</td>\n",
       "      <td>NaN</td>\n",
       "    </tr>\n",
       "    <tr>\n",
       "      <th>banyo_sayisi</th>\n",
       "      <td>750.0</td>\n",
       "      <td>NaN</td>\n",
       "      <td>NaN</td>\n",
       "      <td>NaN</td>\n",
       "      <td>1.28</td>\n",
       "      <td>0.52086</td>\n",
       "      <td>1.0</td>\n",
       "      <td>1.0</td>\n",
       "      <td>1.0</td>\n",
       "      <td>1.0</td>\n",
       "      <td>4.0</td>\n",
       "    </tr>\n",
       "    <tr>\n",
       "      <th>balkon</th>\n",
       "      <td>750.0</td>\n",
       "      <td>NaN</td>\n",
       "      <td>NaN</td>\n",
       "      <td>NaN</td>\n",
       "      <td>0.917333</td>\n",
       "      <td>0.275561</td>\n",
       "      <td>0.0</td>\n",
       "      <td>1.0</td>\n",
       "      <td>1.0</td>\n",
       "      <td>1.0</td>\n",
       "      <td>1.0</td>\n",
       "    </tr>\n",
       "    <tr>\n",
       "      <th>asansor</th>\n",
       "      <td>750.0</td>\n",
       "      <td>NaN</td>\n",
       "      <td>NaN</td>\n",
       "      <td>NaN</td>\n",
       "      <td>0.626667</td>\n",
       "      <td>0.484012</td>\n",
       "      <td>0.0</td>\n",
       "      <td>0.0</td>\n",
       "      <td>1.0</td>\n",
       "      <td>1.0</td>\n",
       "      <td>1.0</td>\n",
       "    </tr>\n",
       "    <tr>\n",
       "      <th>otopark</th>\n",
       "      <td>750</td>\n",
       "      <td>4</td>\n",
       "      <td>Açık Otopark</td>\n",
       "      <td>508</td>\n",
       "      <td>NaN</td>\n",
       "      <td>NaN</td>\n",
       "      <td>NaN</td>\n",
       "      <td>NaN</td>\n",
       "      <td>NaN</td>\n",
       "      <td>NaN</td>\n",
       "      <td>NaN</td>\n",
       "    </tr>\n",
       "    <tr>\n",
       "      <th>esya_durumu</th>\n",
       "      <td>750.0</td>\n",
       "      <td>NaN</td>\n",
       "      <td>NaN</td>\n",
       "      <td>NaN</td>\n",
       "      <td>0.482667</td>\n",
       "      <td>0.500033</td>\n",
       "      <td>0.0</td>\n",
       "      <td>0.0</td>\n",
       "      <td>0.0</td>\n",
       "      <td>1.0</td>\n",
       "      <td>1.0</td>\n",
       "    </tr>\n",
       "    <tr>\n",
       "      <th>site_icinde</th>\n",
       "      <td>750.0</td>\n",
       "      <td>NaN</td>\n",
       "      <td>NaN</td>\n",
       "      <td>NaN</td>\n",
       "      <td>0.281333</td>\n",
       "      <td>0.44995</td>\n",
       "      <td>0.0</td>\n",
       "      <td>0.0</td>\n",
       "      <td>0.0</td>\n",
       "      <td>1.0</td>\n",
       "      <td>1.0</td>\n",
       "    </tr>\n",
       "    <tr>\n",
       "      <th>aidat</th>\n",
       "      <td>750.0</td>\n",
       "      <td>NaN</td>\n",
       "      <td>NaN</td>\n",
       "      <td>NaN</td>\n",
       "      <td>419.381333</td>\n",
       "      <td>2644.590077</td>\n",
       "      <td>0.0</td>\n",
       "      <td>0.0</td>\n",
       "      <td>50.0</td>\n",
       "      <td>300.0</td>\n",
       "      <td>70000.0</td>\n",
       "    </tr>\n",
       "    <tr>\n",
       "      <th>depozito</th>\n",
       "      <td>750.0</td>\n",
       "      <td>NaN</td>\n",
       "      <td>NaN</td>\n",
       "      <td>NaN</td>\n",
       "      <td>21955.133333</td>\n",
       "      <td>24414.82518</td>\n",
       "      <td>0.0</td>\n",
       "      <td>500.0</td>\n",
       "      <td>18000.0</td>\n",
       "      <td>27375.0</td>\n",
       "      <td>200000.0</td>\n",
       "    </tr>\n",
       "    <tr>\n",
       "      <th>sahibi</th>\n",
       "      <td>750.0</td>\n",
       "      <td>NaN</td>\n",
       "      <td>NaN</td>\n",
       "      <td>NaN</td>\n",
       "      <td>0.088</td>\n",
       "      <td>0.283484</td>\n",
       "      <td>0.0</td>\n",
       "      <td>0.0</td>\n",
       "      <td>0.0</td>\n",
       "      <td>0.0</td>\n",
       "      <td>1.0</td>\n",
       "    </tr>\n",
       "  </tbody>\n",
       "</table>\n",
       "</div>"
      ],
      "text/plain": [
       "                        count unique           top freq          mean  \\\n",
       "mahalle                   750     50  Güzeloba Mh.  163           NaN   \n",
       "fiyat                   750.0    NaN           NaN  NaN  24260.117333   \n",
       "brut_alan_m2            750.0    NaN           NaN  NaN    123.754667   \n",
       "net_alan_m2             750.0    NaN           NaN  NaN    111.505333   \n",
       "oda_sayisi                750     12           2+1  279           NaN   \n",
       "bina_yas                  750     11    5-10 arası  159           NaN   \n",
       "dairenin_bulundugu_kat    750     22             2  139           NaN   \n",
       "bina_kat_sayisi         750.0    NaN           NaN  NaN         5.204   \n",
       "isitma_turu               750     13         Klima  499           NaN   \n",
       "banyo_sayisi            750.0    NaN           NaN  NaN          1.28   \n",
       "balkon                  750.0    NaN           NaN  NaN      0.917333   \n",
       "asansor                 750.0    NaN           NaN  NaN      0.626667   \n",
       "otopark                   750      4  Açık Otopark  508           NaN   \n",
       "esya_durumu             750.0    NaN           NaN  NaN      0.482667   \n",
       "site_icinde             750.0    NaN           NaN  NaN      0.281333   \n",
       "aidat                   750.0    NaN           NaN  NaN    419.381333   \n",
       "depozito                750.0    NaN           NaN  NaN  21955.133333   \n",
       "sahibi                  750.0    NaN           NaN  NaN         0.088   \n",
       "\n",
       "                                 std      min      25%      50%      75%  \\\n",
       "mahalle                          NaN      NaN      NaN      NaN      NaN   \n",
       "fiyat                   16680.292541  10250.0  15000.0  20000.0  27000.0   \n",
       "brut_alan_m2                53.26392     25.0     85.0    115.0    150.0   \n",
       "net_alan_m2                48.517233     20.0     75.0    100.0    140.0   \n",
       "oda_sayisi                       NaN      NaN      NaN      NaN      NaN   \n",
       "bina_yas                         NaN      NaN      NaN      NaN      NaN   \n",
       "dairenin_bulundugu_kat           NaN      NaN      NaN      NaN      NaN   \n",
       "bina_kat_sayisi             2.959853      1.0      3.0      4.0      7.0   \n",
       "isitma_turu                      NaN      NaN      NaN      NaN      NaN   \n",
       "banyo_sayisi                 0.52086      1.0      1.0      1.0      1.0   \n",
       "balkon                      0.275561      0.0      1.0      1.0      1.0   \n",
       "asansor                     0.484012      0.0      0.0      1.0      1.0   \n",
       "otopark                          NaN      NaN      NaN      NaN      NaN   \n",
       "esya_durumu                 0.500033      0.0      0.0      0.0      1.0   \n",
       "site_icinde                  0.44995      0.0      0.0      0.0      1.0   \n",
       "aidat                    2644.590077      0.0      0.0     50.0    300.0   \n",
       "depozito                 24414.82518      0.0    500.0  18000.0  27375.0   \n",
       "sahibi                      0.283484      0.0      0.0      0.0      0.0   \n",
       "\n",
       "                             max  \n",
       "mahalle                      NaN  \n",
       "fiyat                   200000.0  \n",
       "brut_alan_m2               400.0  \n",
       "net_alan_m2                370.0  \n",
       "oda_sayisi                   NaN  \n",
       "bina_yas                     NaN  \n",
       "dairenin_bulundugu_kat       NaN  \n",
       "bina_kat_sayisi             17.0  \n",
       "isitma_turu                  NaN  \n",
       "banyo_sayisi                 4.0  \n",
       "balkon                       1.0  \n",
       "asansor                      1.0  \n",
       "otopark                      NaN  \n",
       "esya_durumu                  1.0  \n",
       "site_icinde                  1.0  \n",
       "aidat                    70000.0  \n",
       "depozito                200000.0  \n",
       "sahibi                       1.0  "
      ]
     },
     "execution_count": 10,
     "metadata": {},
     "output_type": "execute_result"
    }
   ],
   "source": [
    "df.describe(include=\"all\").T"
   ]
  },
  {
   "cell_type": "markdown",
   "id": "dba71f50",
   "metadata": {
    "papermill": {
     "duration": 0.011036,
     "end_time": "2024-07-03T18:32:32.821081",
     "exception": false,
     "start_time": "2024-07-03T18:32:32.810045",
     "status": "completed"
    },
    "tags": []
   },
   "source": [
    "## Eksik Veri Kontrolü ##"
   ]
  },
  {
   "cell_type": "code",
   "execution_count": 11,
   "id": "223428b4",
   "metadata": {
    "execution": {
     "iopub.execute_input": "2024-07-03T18:32:32.845338Z",
     "iopub.status.busy": "2024-07-03T18:32:32.844975Z",
     "iopub.status.idle": "2024-07-03T18:32:32.853567Z",
     "shell.execute_reply": "2024-07-03T18:32:32.852529Z"
    },
    "papermill": {
     "duration": 0.023407,
     "end_time": "2024-07-03T18:32:32.855745",
     "exception": false,
     "start_time": "2024-07-03T18:32:32.832338",
     "status": "completed"
    },
    "tags": []
   },
   "outputs": [
    {
     "data": {
      "text/plain": [
       "mahalle                   0\n",
       "fiyat                     0\n",
       "brut_alan_m2              0\n",
       "net_alan_m2               0\n",
       "oda_sayisi                0\n",
       "bina_yas                  0\n",
       "dairenin_bulundugu_kat    0\n",
       "bina_kat_sayisi           0\n",
       "isitma_turu               0\n",
       "banyo_sayisi              0\n",
       "balkon                    0\n",
       "asansor                   0\n",
       "otopark                   0\n",
       "esya_durumu               0\n",
       "site_icinde               0\n",
       "aidat                     0\n",
       "depozito                  0\n",
       "sahibi                    0\n",
       "dtype: int64"
      ]
     },
     "execution_count": 11,
     "metadata": {},
     "output_type": "execute_result"
    }
   ],
   "source": [
    "df.isnull().sum()"
   ]
  },
  {
   "cell_type": "code",
   "execution_count": 12,
   "id": "2a851900",
   "metadata": {
    "execution": {
     "iopub.execute_input": "2024-07-03T18:32:32.880675Z",
     "iopub.status.busy": "2024-07-03T18:32:32.880279Z",
     "iopub.status.idle": "2024-07-03T18:32:33.141656Z",
     "shell.execute_reply": "2024-07-03T18:32:33.140528Z"
    },
    "papermill": {
     "duration": 0.27672,
     "end_time": "2024-07-03T18:32:33.143982",
     "exception": false,
     "start_time": "2024-07-03T18:32:32.867262",
     "status": "completed"
    },
    "tags": []
   },
   "outputs": [
    {
     "data": {
      "text/plain": [
       "<Axes: xlabel='isitma_turu'>"
      ]
     },
     "execution_count": 12,
     "metadata": {},
     "output_type": "execute_result"
    },
    {
     "data": {
      "image/png": "[encoded data removed]",
      "text/plain": [
       "<Figure size 640x480 with 1 Axes>"
      ]
     },
     "metadata": {},
     "output_type": "display_data"
    }
   ],
   "source": [
    "df['isitma_turu'].value_counts().plot.bar()"
   ]
  },
  {
   "cell_type": "code",
   "execution_count": 13,
   "id": "c8d71bfd",
   "metadata": {
    "execution": {
     "iopub.execute_input": "2024-07-03T18:32:33.170826Z",
     "iopub.status.busy": "2024-07-03T18:32:33.169903Z",
     "iopub.status.idle": "2024-07-03T18:32:33.444948Z",
     "shell.execute_reply": "2024-07-03T18:32:33.443904Z"
    },
    "papermill": {
     "duration": 0.290651,
     "end_time": "2024-07-03T18:32:33.447248",
     "exception": false,
     "start_time": "2024-07-03T18:32:33.156597",
     "status": "completed"
    },
    "tags": []
   },
   "outputs": [
    {
     "data": {
      "image/png": "[encoded data removed]",
      "text/plain": [
       "<Figure size 640x480 with 1 Axes>"
      ]
     },
     "metadata": {},
     "output_type": "display_data"
    }
   ],
   "source": [
    "sns.countplot(x='isitma_turu',data=df)\n",
    "plt.xticks(rotation=90)\n",
    "plt.show()"
   ]
  },
  {
   "cell_type": "markdown",
   "id": "a6493cfa",
   "metadata": {
    "papermill": {
     "duration": 0.012575,
     "end_time": "2024-07-03T18:32:33.472703",
     "exception": false,
     "start_time": "2024-07-03T18:32:33.460128",
     "status": "completed"
    },
    "tags": []
   },
   "source": []
  },
  {
   "cell_type": "markdown",
   "id": "1a42bd05",
   "metadata": {
    "papermill": {
     "duration": 0.012526,
     "end_time": "2024-07-03T18:32:33.498164",
     "exception": false,
     "start_time": "2024-07-03T18:32:33.485638",
     "status": "completed"
    },
    "tags": []
   },
   "source": [
    "##eda##"
   ]
  },
  {
   "cell_type": "code",
   "execution_count": 14,
   "id": "8ebb1209",
   "metadata": {
    "execution": {
     "iopub.execute_input": "2024-07-03T18:32:33.525936Z",
     "iopub.status.busy": "2024-07-03T18:32:33.524931Z",
     "iopub.status.idle": "2024-07-03T18:32:33.529561Z",
     "shell.execute_reply": "2024-07-03T18:32:33.528602Z"
    },
    "papermill": {
     "duration": 0.020673,
     "end_time": "2024-07-03T18:32:33.531638",
     "exception": false,
     "start_time": "2024-07-03T18:32:33.510965",
     "status": "completed"
    },
    "tags": []
   },
   "outputs": [],
   "source": [
    "#from ydata_profiling import ProfileReport"
   ]
  },
  {
   "cell_type": "code",
   "execution_count": 15,
   "id": "cd746e04",
   "metadata": {
    "execution": {
     "iopub.execute_input": "2024-07-03T18:32:33.558982Z",
     "iopub.status.busy": "2024-07-03T18:32:33.558325Z",
     "iopub.status.idle": "2024-07-03T18:32:33.562673Z",
     "shell.execute_reply": "2024-07-03T18:32:33.561718Z"
    },
    "papermill": {
     "duration": 0.020392,
     "end_time": "2024-07-03T18:32:33.564734",
     "exception": false,
     "start_time": "2024-07-03T18:32:33.544342",
     "status": "completed"
    },
    "tags": []
   },
   "outputs": [],
   "source": [
    "#!pip install ydata=profiling"
   ]
  },
  {
   "cell_type": "code",
   "execution_count": 16,
   "id": "0dce6f78",
   "metadata": {
    "execution": {
     "iopub.execute_input": "2024-07-03T18:32:33.592250Z",
     "iopub.status.busy": "2024-07-03T18:32:33.591900Z",
     "iopub.status.idle": "2024-07-03T18:32:33.596634Z",
     "shell.execute_reply": "2024-07-03T18:32:33.595519Z"
    },
    "papermill": {
     "duration": 0.021134,
     "end_time": "2024-07-03T18:32:33.598791",
     "exception": false,
     "start_time": "2024-07-03T18:32:33.577657",
     "status": "completed"
    },
    "tags": []
   },
   "outputs": [],
   "source": [
    "#!pip install ydata-profiling --quiet"
   ]
  },
  {
   "cell_type": "markdown",
   "id": "c031e748",
   "metadata": {
    "papermill": {
     "duration": 0.012411,
     "end_time": "2024-07-03T18:32:33.624272",
     "exception": false,
     "start_time": "2024-07-03T18:32:33.611861",
     "status": "completed"
    },
    "tags": []
   },
   "source": [
    "Amacımız tutarlı ve hızlı bir çözümle tek satırlık Keşifsel Veri Analizi (EDA) deneyimi sunmaktır. Pandas df.describe() işlevi gibi, bu çok kullanışlıdır, pandas-profil oluşturma bir DataFrame'in genişletilmiş analizini sunarken, veri analizinin html ve json gibi farklı formatlarda dışa aktarılmasına olanak tanır.\n",
    "\n",
    "Paket, zaman serisi ve metin de dahil olmak üzere bir veri kümesinin basit ve özetlenmiş bir analizini sağlar.\n"
   ]
  },
  {
   "cell_type": "code",
   "execution_count": 17,
   "id": "61fc077f",
   "metadata": {
    "execution": {
     "iopub.execute_input": "2024-07-03T18:32:33.709834Z",
     "iopub.status.busy": "2024-07-03T18:32:33.709431Z",
     "iopub.status.idle": "2024-07-03T18:32:33.714275Z",
     "shell.execute_reply": "2024-07-03T18:32:33.713053Z"
    },
    "papermill": {
     "duration": 0.021134,
     "end_time": "2024-07-03T18:32:33.716402",
     "exception": false,
     "start_time": "2024-07-03T18:32:33.695268",
     "status": "completed"
    },
    "tags": []
   },
   "outputs": [],
   "source": [
    "#import sys\n",
    "#!{sys.executable} -m pip install -U ydata-profiling[notebook]\n",
    "#!jupyter nbextension enable --py widgetsnbextension\n",
    "\n",
    "#!pip install pandas-profiling[notebook]\n",
    "#!jupyter nbextension enable --py widgetsnbextension\n"
   ]
  },
  {
   "cell_type": "code",
   "execution_count": 18,
   "id": "7b827059",
   "metadata": {
    "execution": {
     "iopub.execute_input": "2024-07-03T18:32:33.743749Z",
     "iopub.status.busy": "2024-07-03T18:32:33.743348Z",
     "iopub.status.idle": "2024-07-03T18:32:33.748132Z",
     "shell.execute_reply": "2024-07-03T18:32:33.747055Z"
    },
    "papermill": {
     "duration": 0.021138,
     "end_time": "2024-07-03T18:32:33.750381",
     "exception": false,
     "start_time": "2024-07-03T18:32:33.729243",
     "status": "completed"
    },
    "tags": []
   },
   "outputs": [],
   "source": [
    "#pip install pycaret"
   ]
  },
  {
   "cell_type": "code",
   "execution_count": 19,
   "id": "0fdec2b3",
   "metadata": {
    "execution": {
     "iopub.execute_input": "2024-07-03T18:32:33.777927Z",
     "iopub.status.busy": "2024-07-03T18:32:33.777098Z",
     "iopub.status.idle": "2024-07-03T18:32:33.781612Z",
     "shell.execute_reply": "2024-07-03T18:32:33.780624Z"
    },
    "papermill": {
     "duration": 0.02056,
     "end_time": "2024-07-03T18:32:33.783771",
     "exception": false,
     "start_time": "2024-07-03T18:32:33.763211",
     "status": "completed"
    },
    "tags": []
   },
   "outputs": [],
   "source": [
    "#profile = ProfileReport(df, title=\"Pandas Profiling Report\")\n",
    "#profile"
   ]
  },
  {
   "cell_type": "code",
   "execution_count": 20,
   "id": "57f3f7aa",
   "metadata": {
    "execution": {
     "iopub.execute_input": "2024-07-03T18:32:33.811636Z",
     "iopub.status.busy": "2024-07-03T18:32:33.811253Z",
     "iopub.status.idle": "2024-07-03T18:32:33.815518Z",
     "shell.execute_reply": "2024-07-03T18:32:33.814565Z"
    },
    "papermill": {
     "duration": 0.02077,
     "end_time": "2024-07-03T18:32:33.817589",
     "exception": false,
     "start_time": "2024-07-03T18:32:33.796819",
     "status": "completed"
    },
    "tags": []
   },
   "outputs": [],
   "source": [
    "#pip install --upgrade pycaret numpy array"
   ]
  },
  {
   "cell_type": "code",
   "execution_count": 21,
   "id": "cf5205d2",
   "metadata": {
    "execution": {
     "iopub.execute_input": "2024-07-03T18:32:33.845694Z",
     "iopub.status.busy": "2024-07-03T18:32:33.844608Z",
     "iopub.status.idle": "2024-07-03T18:32:34.185358Z",
     "shell.execute_reply": "2024-07-03T18:32:34.183879Z"
    },
    "papermill": {
     "duration": 0.356919,
     "end_time": "2024-07-03T18:32:34.187307",
     "exception": true,
     "start_time": "2024-07-03T18:32:33.830388",
     "status": "failed"
    },
    "tags": []
   },
   "outputs": [
    {
     "ename": "NameError",
     "evalue": "name 'setup' is not defined",
     "output_type": "error",
     "traceback": [
      "\u001b[0;31m---------------------------------------------------------------------------\u001b[0m",
      "\u001b[0;31mNameError\u001b[0m                                 Traceback (most recent call last)",
      "Cell \u001b[0;32mIn[21], line 2\u001b[0m\n\u001b[1;32m      1\u001b[0m \u001b[38;5;66;03m#from pycaret.regression import *\u001b[39;00m\n\u001b[0;32m----> 2\u001b[0m exp_reg101 \u001b[38;5;241m=\u001b[39m \u001b[43msetup\u001b[49m(data \u001b[38;5;241m=\u001b[39m df, target \u001b[38;5;241m=\u001b[39m \u001b[38;5;124m'\u001b[39m\u001b[38;5;124mfiyat\u001b[39m\u001b[38;5;124m'\u001b[39m, session_id \u001b[38;5;241m=\u001b[39m \u001b[38;5;241m42\u001b[39m)\n",
      "\u001b[0;31mNameError\u001b[0m: name 'setup' is not defined"
     ]
    }
   ],
   "source": [
    "#from pycaret.regression import *\n",
    "exp_reg101 = setup(data = df, target = 'fiyat', session_id = 42)"
   ]
  },
  {
   "cell_type": "code",
   "execution_count": null,
   "id": "9a6dd68d",
   "metadata": {
    "execution": {
     "iopub.status.busy": "2024-07-03T18:26:24.790524Z",
     "iopub.status.idle": "2024-07-03T18:26:24.790960Z",
     "shell.execute_reply": "2024-07-03T18:26:24.790764Z",
     "shell.execute_reply.started": "2024-07-03T18:26:24.790746Z"
    },
    "papermill": {
     "duration": null,
     "end_time": null,
     "exception": null,
     "start_time": null,
     "status": "pending"
    },
    "tags": []
   },
   "outputs": [],
   "source": [
    "#import pandas as pd\n",
    "\n"
   ]
  },
  {
   "cell_type": "code",
   "execution_count": null,
   "id": "4c09e824",
   "metadata": {
    "execution": {
     "iopub.status.busy": "2024-07-03T18:26:24.792396Z",
     "iopub.status.idle": "2024-07-03T18:26:24.792774Z",
     "shell.execute_reply": "2024-07-03T18:26:24.792612Z",
     "shell.execute_reply.started": "2024-07-03T18:26:24.792596Z"
    },
    "papermill": {
     "duration": null,
     "end_time": null,
     "exception": null,
     "start_time": null,
     "status": "pending"
    },
    "tags": []
   },
   "outputs": [],
   "source": [
    "#from pycaret.regression import setup\n"
   ]
  },
  {
   "cell_type": "code",
   "execution_count": null,
   "id": "e3562f3c",
   "metadata": {
    "execution": {
     "iopub.status.busy": "2024-07-03T18:26:24.794172Z",
     "iopub.status.idle": "2024-07-03T18:26:24.794524Z",
     "shell.execute_reply": "2024-07-03T18:26:24.794370Z",
     "shell.execute_reply.started": "2024-07-03T18:26:24.794356Z"
    },
    "papermill": {
     "duration": null,
     "end_time": null,
     "exception": null,
     "start_time": null,
     "status": "pending"
    },
    "tags": []
   },
   "outputs": [],
   "source": [
    "pip install pycaret"
   ]
  },
  {
   "cell_type": "code",
   "execution_count": null,
   "id": "2e1348d0",
   "metadata": {
    "execution": {
     "iopub.status.busy": "2024-07-03T18:26:24.796130Z",
     "iopub.status.idle": "2024-07-03T18:26:24.796513Z",
     "shell.execute_reply": "2024-07-03T18:26:24.796351Z",
     "shell.execute_reply.started": "2024-07-03T18:26:24.796335Z"
    },
    "papermill": {
     "duration": null,
     "end_time": null,
     "exception": null,
     "start_time": null,
     "status": "pending"
    },
    "tags": []
   },
   "outputs": [],
   "source": [
    "pip install --upgrade pycaret xnumpy array"
   ]
  },
  {
   "cell_type": "code",
   "execution_count": null,
   "id": "3b8a3fe9",
   "metadata": {
    "execution": {
     "iopub.status.busy": "2024-07-03T18:26:24.797636Z",
     "iopub.status.idle": "2024-07-03T18:26:24.797989Z",
     "shell.execute_reply": "2024-07-03T18:26:24.797837Z",
     "shell.execute_reply.started": "2024-07-03T18:26:24.797822Z"
    },
    "papermill": {
     "duration": null,
     "end_time": null,
     "exception": null,
     "start_time": null,
     "status": "pending"
    },
    "tags": []
   },
   "outputs": [],
   "source": [
    "from pycaret import regression\n",
    "exp_reg101 = regression.setup(data = df, target = 'fiyat', session_id = 42)"
   ]
  },
  {
   "cell_type": "code",
   "execution_count": null,
   "id": "0d19e1fc",
   "metadata": {
    "execution": {
     "iopub.status.busy": "2024-07-03T18:26:24.799194Z",
     "iopub.status.idle": "2024-07-03T18:26:24.799578Z",
     "shell.execute_reply": "2024-07-03T18:26:24.799401Z",
     "shell.execute_reply.started": "2024-07-03T18:26:24.799385Z"
    },
    "papermill": {
     "duration": null,
     "end_time": null,
     "exception": null,
     "start_time": null,
     "status": "pending"
    },
    "tags": []
   },
   "outputs": [],
   "source": [
    "regression.compare_models()\n"
   ]
  },
  {
   "cell_type": "markdown",
   "id": "ea914521",
   "metadata": {
    "papermill": {
     "duration": null,
     "end_time": null,
     "exception": null,
     "start_time": null,
     "status": "pending"
    },
    "tags": []
   },
   "source": [
    "Hata Karelerinin Ortalamasının Kökü (RMSE)"
   ]
  },
  {
   "cell_type": "code",
   "execution_count": null,
   "id": "848d3106",
   "metadata": {
    "papermill": {
     "duration": null,
     "end_time": null,
     "exception": null,
     "start_time": null,
     "status": "pending"
    },
    "tags": []
   },
   "outputs": [],
   "source": []
  },
  {
   "cell_type": "markdown",
   "id": "db7bd558",
   "metadata": {
    "papermill": {
     "duration": null,
     "end_time": null,
     "exception": null,
     "start_time": null,
     "status": "pending"
    },
    "tags": []
   },
   "source": [
    "R-Square (R2)"
   ]
  },
  {
   "cell_type": "code",
   "execution_count": null,
   "id": "1b328463",
   "metadata": {
    "execution": {
     "iopub.status.busy": "2024-07-03T18:26:24.800825Z",
     "iopub.status.idle": "2024-07-03T18:26:24.801206Z",
     "shell.execute_reply": "2024-07-03T18:26:24.801015Z",
     "shell.execute_reply.started": "2024-07-03T18:26:24.801001Z"
    },
    "papermill": {
     "duration": null,
     "end_time": null,
     "exception": null,
     "start_time": null,
     "status": "pending"
    },
    "tags": []
   },
   "outputs": [],
   "source": [
    "from sklearn.metrics import r2_score"
   ]
  },
  {
   "cell_type": "code",
   "execution_count": null,
   "id": "083f2fa6",
   "metadata": {
    "execution": {
     "iopub.execute_input": "2024-07-03T18:26:30.701080Z",
     "iopub.status.busy": "2024-07-03T18:26:30.700096Z",
     "iopub.status.idle": "2024-07-03T18:26:30.707636Z",
     "shell.execute_reply": "2024-07-03T18:26:30.706497Z",
     "shell.execute_reply.started": "2024-07-03T18:26:30.701012Z"
    },
    "papermill": {
     "duration": null,
     "end_time": null,
     "exception": null,
     "start_time": null,
     "status": "pending"
    },
    "tags": []
   },
   "outputs": [],
   "source": [
    "x=df.iloc[:,1:2]\n",
    "y=df.iloc[:,2:]\n",
    "X=x.values\n",
    "Y=y.values\n"
   ]
  },
  {
   "cell_type": "code",
   "execution_count": null,
   "id": "4928303c",
   "metadata": {
    "execution": {
     "iopub.execute_input": "2024-07-03T18:30:13.679487Z",
     "iopub.status.busy": "2024-07-03T18:30:13.679100Z",
     "iopub.status.idle": "2024-07-03T18:30:13.760855Z",
     "shell.execute_reply": "2024-07-03T18:30:13.759414Z",
     "shell.execute_reply.started": "2024-07-03T18:30:13.679458Z"
    },
    "papermill": {
     "duration": null,
     "end_time": null,
     "exception": null,
     "start_time": null,
     "status": "pending"
    },
    "tags": []
   },
   "outputs": [],
   "source": [
    "from sklearn.linear_model import LinearRegression\n",
    "lin_reg = LinearRegression()\n",
    "lin_reg.fit(X,Y)"
   ]
  },
  {
   "cell_type": "markdown",
   "id": "0a562a8c",
   "metadata": {
    "papermill": {
     "duration": null,
     "end_time": null,
     "exception": null,
     "start_time": null,
     "status": "pending"
    },
    "tags": []
   },
   "source": []
  }
 ],
 "metadata": {
  "kaggle": {
   "accelerator": "none",
   "dataSources": [
    {
     "datasetId": 5266094,
     "sourceId": 8764348,
     "sourceType": "datasetVersion"
    }
   ],
   "dockerImageVersionId": 30732,
   "isGpuEnabled": false,
   "isInternetEnabled": true,
   "language": "python",
   "sourceType": "notebook"
  },
  "kernelspec": {
   "display_name": "Python 3",
   "language": "python",
   "name": "python3"
  },
  "language_info": {
   "codemirror_mode": {
    "name": "ipython",
    "version": 3
   },
   "file_extension": ".py",
   "mimetype": "text/x-python",
   "name": "python",
   "nbconvert_exporter": "python",
   "pygments_lexer": "ipython3",
   "version": "3.10.13"
  },
  "papermill": {
   "default_parameters": {},
   "duration": 7.919739,
   "end_time": "2024-07-03T18:32:34.822290",
   "environment_variables": {},
   "exception": true,
   "input_path": "__notebook__.ipynb",
   "output_path": "__notebook__.ipynb",
   "parameters": {},
   "start_time": "2024-07-03T18:32:26.902551",
   "version": "2.5.0"
  }
 },
 "nbformat": 4,
 "nbformat_minor": 5
}
